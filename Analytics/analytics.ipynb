{
 "cells": [
  {
   "cell_type": "code",
   "execution_count": null,
   "metadata": {},
   "outputs": [],
   "source": [
    "import fastf1 as f1\n",
    "\n",
    "from F1Helper import Grapher"
   ]
  },
  {
   "cell_type": "code",
   "execution_count": null,
   "metadata": {},
   "outputs": [],
   "source": [
    "f1.set_log_level(\"Warning\")\n",
    "q_session = f1.get_session(2023, 'Mexico', 'Q')\n",
    "\n",
    "q_session.load()"
   ]
  },
  {
   "cell_type": "code",
   "execution_count": null,
   "metadata": {},
   "outputs": [],
   "source": [
    "f1grapher = Grapher()"
   ]
  },
  {
   "cell_type": "code",
   "execution_count": null,
   "metadata": {},
   "outputs": [],
   "source": [
    "fastest_matchups = []\n",
    "team_matchcups = []\n",
    "laps = q_session.laps.pick_accurate().pick_not_deleted()\n",
    "fastest_driver = laps.pick_fastest()['Driver']\n",
    "drivers = laps['Driver'].unique()\n",
    "teams = laps['Team'].unique()\n",
    "\n",
    "for driver in drivers:\n",
    "    if driver != fastest_driver:\n",
    "        fastest_matchups.append([fastest_driver, driver])\n",
    "\n",
    "for team in teams:\n",
    "    curr_matchup = laps.pick_team(team)['Driver'].unique()\n",
    "    if len(curr_matchup) > 1:\n",
    "        team_matchcups.append(curr_matchup)"
   ]
  },
  {
   "cell_type": "code",
   "execution_count": null,
   "metadata": {},
   "outputs": [],
   "source": [
    "for matchup in fastest_matchups:\n",
    "    f1grapher.telemetry_graph(q_session, matchup)"
   ]
  },
  {
   "cell_type": "code",
   "execution_count": null,
   "metadata": {},
   "outputs": [],
   "source": []
  }
 ],
 "metadata": {
  "kernelspec": {
   "display_name": "Python 3",
   "language": "python",
   "name": "python3"
  },
  "language_info": {
   "codemirror_mode": {
    "name": "ipython",
    "version": 3
   },
   "file_extension": ".py",
   "mimetype": "text/x-python",
   "name": "python",
   "nbconvert_exporter": "python",
   "pygments_lexer": "ipython3",
   "version": "3.11.4"
  }
 },
 "nbformat": 4,
 "nbformat_minor": 2
}
