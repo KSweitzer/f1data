{
 "cells": [
  {
   "cell_type": "code",
   "execution_count": null,
   "metadata": {},
   "outputs": [],
   "source": [
    "import fastf1 as f1\n",
    "\n",
    "from F1Helper import Grapher"
   ]
  },
  {
   "cell_type": "code",
   "execution_count": null,
   "metadata": {},
   "outputs": [],
   "source": [
    "f1.set_log_level(\"Warning\")\n",
    "session = f1.get_session(2023, 'Mexico', 'Q')\n",
    "\n",
    "session.load()"
   ]
  },
  {
   "cell_type": "code",
   "execution_count": null,
   "metadata": {},
   "outputs": [],
   "source": [
    "f1grapher = Grapher()"
   ]
  },
  {
   "cell_type": "code",
   "execution_count": null,
   "metadata": {},
   "outputs": [],
   "source": [
    "matchups = []\n",
    "drivers = session.laps['Driver'].unique()\n",
    "\n",
    "\n",
    "for i in range(len(drivers)):\n",
    "    for j in range(len(drivers) - (i + 2)):\n",
    "        matchups.append([drivers[i], drivers[i+j+1]])\n",
    "\n",
    "#This creates telemetry graph for all matchups that exist\n",
    "#for matchup in matchups:\n",
    "#    f1grapher.telemetry_graph(session, matchup)"
   ]
  },
  {
   "cell_type": "code",
   "execution_count": null,
   "metadata": {},
   "outputs": [],
   "source": []
  }
 ],
 "metadata": {
  "kernelspec": {
   "display_name": "Python 3",
   "language": "python",
   "name": "python3"
  },
  "language_info": {
   "codemirror_mode": {
    "name": "ipython",
    "version": 3
   },
   "file_extension": ".py",
   "mimetype": "text/x-python",
   "name": "python",
   "nbconvert_exporter": "python",
   "pygments_lexer": "ipython3",
   "version": "3.11.4"
  }
 },
 "nbformat": 4,
 "nbformat_minor": 2
}
