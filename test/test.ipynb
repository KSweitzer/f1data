{
 "cells": [
  {
   "cell_type": "code",
   "execution_count": null,
   "metadata": {},
   "outputs": [],
   "source": [
    "import fastf1 as f1\n",
    "import fastf1.plotting as f1plt\n",
    "from matplotlib import pyplot as plt\n",
    "from matplotlib.ticker import AutoMinorLocator"
   ]
  },
  {
   "cell_type": "code",
   "execution_count": null,
   "metadata": {},
   "outputs": [],
   "source": [
    "f1.set_log_level(\"Warning\")\n",
    "session = f1.get_session(2023, 'Texas', 'Q')\n",
    "\n",
    "session.load()\n",
    "\n",
    "f1.plotting.setup_mpl(misc_mpl_mods=False)"
   ]
  },
  {
   "cell_type": "code",
   "execution_count": null,
   "metadata": {},
   "outputs": [],
   "source": [
    "def laptime_to_string(seconds):\n",
    "    m = int(seconds / 60)\n",
    "    s = round(seconds % 60, 3)\n",
    "    return str(m) + \":\" + str(s)"
   ]
  },
  {
   "cell_type": "code",
   "execution_count": null,
   "metadata": {},
   "outputs": [],
   "source": [
    "def telemetry_graph(session, drivers):\n",
    "    laps = []\n",
    "    tels = []\n",
    "    circuit_info = session.get_circuit_info()\n",
    "    for driver in drivers:\n",
    "        laps.append(session.laps.pick_driver(driver).pick_fastest())\n",
    "\n",
    "    fig, (tel, thr, drs, dif) = plt.subplots(4, 1,figsize=(50,25),\n",
    "            constrained_layout=True, height_ratios=[1, 0.25, 0.15, 0.25])\n",
    "\n",
    "    tel_max = 0\n",
    "    tel_min = 0\n",
    "    dis_max = 0\n",
    "    for lap in laps:\n",
    "        tel_data = lap.get_telemetry()\n",
    "\n",
    "        tel_max = tel_data['Speed'].max() if tel_max == 0 or tel_max < tel_data['Speed'].max() else tel_max\n",
    "        tel_min = tel_data['Speed'].min() if tel_min == 0 or tel_min < tel_data['Speed'].min() else tel_min\n",
    "        dis_max = tel_data['Distance'].max() if dis_max == 0 or dis_max < tel_data['Distance'].max() else dis_max\n",
    "\n",
    "        drs_data = []\n",
    "        for drs_status in tel_data['DRS']:\n",
    "            drs_data.append(1 if drs_status > 9 else 0)\n",
    "\n",
    "        tel.plot(tel_data['Distance'], tel_data['Speed'], linewidth=3.0, label=lap['Driver'] + \" Lap \" + str(lap['LapNumber']) + \" \" + str(lap['Compound']))\n",
    "        thr.plot(tel_data['Distance'], tel_data['Throttle'], linewidth=3.0,  label=lap['Driver'] + \" Lap \" + str(lap['LapNumber']) + \" \" + str(lap['Compound']))\n",
    "        drs.plot(tel_data['Distance'], drs_data, linewidth=3.0,  label=lap['Driver'] + \" Lap \" + str(lap['LapNumber']) + \" \" + str(lap['Compound']))\n",
    "\n",
    "        tels.append(tel_data)\n",
    "\n",
    "\n",
    "\n",
    "    dif.plot(\n",
    "        tels[0]['Distance'] if tels[0]['Distance'].shape[0] < tels[1]['Distance'].shape[0] else tels[1]['Distance'],\n",
    "        (tels[1]['Time'] - tels[0]['Time']).dropna().dt.total_seconds(),\n",
    "        color='w')\n",
    "    \n",
    "    tel.vlines(x=circuit_info.corners['Distance'], ymin=tel_min-15, ymax=tel_max+15, linestyles=':', colors='grey', linewidth=6)\n",
    "    for _, corner in circuit_info.corners.iterrows():\n",
    "        txt = f\"{corner['Number']}{corner['Letter']}\"\n",
    "        tel.text(corner['Distance'], tel_min-20, txt,\n",
    "            va='center_baseline', ha='center', fontsize=20)\n",
    "\n",
    "\n",
    "    tel.set_ylabel('Speed [Km/h]', fontsize=25)\n",
    "    tel.set_xticklabels([])\n",
    "    tel.yaxis.set_minor_locator(AutoMinorLocator())\n",
    "    tel.tick_params('both', which='major', labelsize=15, length=15)\n",
    "    tel.tick_params('both', which='minor', length=10)\n",
    "    tel.legend(fontsize=30)\n",
    "    tel.grid(True, which='major')\n",
    "    tel.grid(True, which='minor')\n",
    "\n",
    "    thr.set_ylabel('Throttle %', fontsize=25)\n",
    "    thr.set_xticklabels([])\n",
    "    thr.set_yticks([x*50 for x in range(int(100/50 + 1))], labels=[str(x*50) for x in range(int(100/50 + 1))], fontsize=10)\n",
    "    thr.tick_params('both', which='major', labelsize=15, length=15)\n",
    "    thr.tick_params('x', which='minor', length=10)\n",
    "    thr.grid(True, which='major')\n",
    "    thr.grid(True, which='minor')\n",
    "\n",
    "    drs.set_ylabel('DRS', fontsize=25)\n",
    "    drs.set_yticks([0,1], labels=['0', '1'], fontsize=10)\n",
    "    drs.tick_params('both', which='major', labelsize=15, length=15)\n",
    "    drs.tick_params('x', which='minor', length=10)\n",
    "    drs.grid(True, which='major')\n",
    "    drs.grid(True, which='minor')\n",
    "\n",
    "    dif.set_ylabel(\"<-- \" + drivers[1] + \" | \" + drivers[0] + \" -->\", fontsize=25)\n",
    "    dif.xaxis.set_minor_locator(AutoMinorLocator())\n",
    "    dif.tick_params('both', which='major', labelsize=15, length=15)\n",
    "    dif.tick_params('x', which='minor', length=10)\n",
    "    dif.grid(True, which='major')\n",
    "    dif.grid(True, which='minor')\n",
    "\n",
    "    fig.suptitle(str(session) + \"\\n\" + drivers[0] + \" \" + laptime_to_string(laps[0]['LapTime'].total_seconds()) + \" vs \" + drivers[1] + \" \" + laptime_to_string(laps[1]['LapTime'].total_seconds()), fontsize=35)"
   ]
  },
  {
   "cell_type": "code",
   "execution_count": null,
   "metadata": {},
   "outputs": [],
   "source": [
    "drivers = ['LEC', 'SAR']\n",
    "\n",
    "telemetry_graph(session, drivers)"
   ]
  },
  {
   "cell_type": "code",
   "execution_count": null,
   "metadata": {},
   "outputs": [],
   "source": [
    "test = []\n",
    "\n",
    "for driver in drivers:\n",
    "    test.append(session.laps.pick_driver(driver).pick_fastest())\n",
    "\n",
    "\n",
    "session.laps.pick_accurate().pick_not_deleted().pick_driver('SAR').pick_fastest()"
   ]
  },
  {
   "cell_type": "code",
   "execution_count": null,
   "metadata": {},
   "outputs": [],
   "source": []
  }
 ],
 "metadata": {
  "kernelspec": {
   "display_name": "Python 3",
   "language": "python",
   "name": "python3"
  },
  "language_info": {
   "codemirror_mode": {
    "name": "ipython",
    "version": 3
   },
   "file_extension": ".py",
   "mimetype": "text/x-python",
   "name": "python",
   "nbconvert_exporter": "python",
   "pygments_lexer": "ipython3",
   "version": "3.10.4"
  },
  "orig_nbformat": 4
 },
 "nbformat": 4,
 "nbformat_minor": 2
}
